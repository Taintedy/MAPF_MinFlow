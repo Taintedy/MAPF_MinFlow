{
 "cells": [
  {
   "cell_type": "code",
   "execution_count": 17,
   "id": "83f24157",
   "metadata": {
    "pycharm": {
     "name": "#%%\n"
    }
   },
   "outputs": [],
   "source": [
    "import numpy\n",
    "import matplotlib.pyplot as plt\n",
    "from mpl_toolkits.mplot3d import Axes3D\n",
    "import copy"
   ]
  },
  {
   "cell_type": "code",
   "execution_count": 106,
   "id": "84b879b2",
   "metadata": {
    "pycharm": {
     "name": "#%%\n"
    }
   },
   "outputs": [],
   "source": [
    "T = 2\n",
    "\n",
    "class Node:\n",
    "    def __init__(self, pose, node_type=\"default\", capacity=1):\n",
    "        self.pose = pose\n",
    "        self.capacity = capacity\n",
    "        \n",
    "        self.children = []\n",
    "        \n",
    "        self.is_start = False\n",
    "        self.is_goal = False\n",
    "        self.is_auxilary = False\n",
    "        \n",
    "        if node_type == \"start\":\n",
    "            self.is_start = True\n",
    "        elif node_type == \"goal\":\n",
    "            self.is_goal = True\n",
    "        elif node_type == \"auxiliary\":\n",
    "            self.is_auxilary = True\n",
    "    \n",
    "    def print_pose(self):\n",
    "        if self.is_start:   \n",
    "            return str(self.pose) + \" is start\"\n",
    "        elif self.is_goal:   \n",
    "            return str(self.pose) + \" is goal\"\n",
    "        elif self.is_auxilary:   \n",
    "            return str(self.pose) + \" is auxiliary\"\n",
    "        else:\n",
    "            return str(self.pose) + \" is default\"\n",
    "        \n",
    "\n",
    "class Edge:\n",
    "    def __init__(self, nodeFrom, nodeTo, orientated=True, cost=1, capacity=1):\n",
    "        self.nodeFrom = nodeFrom\n",
    "        self.nodeTo = nodeTo\n",
    "        self.capacity = capacity\n",
    "        self.orientated = orientated\n",
    "        self.cost = cost\n",
    "        \n",
    "class Graph:\n",
    "    def __init__(self, nodes, edges):\n",
    "        self.nodes = nodes\n",
    "        self.edges = edges\n",
    "\n",
    "    \n",
    "    def draw_graph(self):\n",
    "        fig = plt.figure(figsize=(4,4))\n",
    "        ax = fig.add_subplot(111, projection='3d')\n",
    "        \n",
    "        for edge in self.edges:\n",
    "            ax.plot([edge.nodeFrom.pose[0],edge.nodeTo.pose[0]], [edge.nodeFrom.pose[1],edge.nodeTo.pose[1]],[edge.nodeFrom.pose[2],edge.nodeTo.pose[2]], c=\"#59c2ff\")\n",
    "            if edge.nodeFrom.is_start:\n",
    "                ax.scatter(edge.nodeFrom.pose[0],  edge.nodeFrom.pose[1], edge.nodeFrom.pose[2], c=\"r\")\n",
    "            elif edge.nodeFrom.is_goal:\n",
    "                ax.scatter(edge.nodeFrom.pose[0],  edge.nodeFrom.pose[1], edge.nodeFrom.pose[2], c=\"b\")\n",
    "            else:\n",
    "                ax.scatter(edge.nodeFrom.pose[0],  edge.nodeFrom.pose[1], edge.nodeFrom.pose[2], c=\"black\")\n",
    "            if edge.nodeTo.is_start:    \n",
    "                ax.scatter(edge.nodeTo.pose[0],  edge.nodeTo.pose[1], edge.nodeTo.pose[2], c=\"r\")\n",
    "            elif edge.nodeTo.is_goal:\n",
    "                ax.scatter(edge.nodeTo.pose[0],  edge.nodeTo.pose[1], edge.nodeTo.pose[2], c=\"b\")\n",
    "            else:\n",
    "                ax.scatter(edge.nodeTo.pose[0],  edge.nodeTo.pose[1], edge.nodeTo.pose[2], c=\"black\")  \n",
    "        \n",
    "        plt.show()\n",
    "        \n",
    "class TimeExpandedFlowGraph:\n",
    "    def __init__(self, graph):\n",
    "        \n",
    "        self.nodes = graph.nodes\n",
    "        self.edges = []\n",
    "        next_edges = []\n",
    "        current_edges = graph.edges\n",
    "        j = 0\n",
    "        for i in range(T):\n",
    "            for edge in current_edges:\n",
    "                node_from = edge.nodeFrom\n",
    "                node_to = edge.nodeTo\n",
    "                next_timestep_edge = Edge(copy.deepcopy(node_from), copy.deepcopy(node_to))\n",
    "\n",
    "                # add auxilary edge w -> w', A -> w and B -> w\n",
    "                auxiliary_node1 = Node(\"w\" + str(j) + \" time \" + str(i), node_type=\"auxiliary\")\n",
    "                auxiliary_node2 = Node(\"w'\" + str(j) + \" time \" + str(i), node_type=\"auxiliary\")\n",
    "                print(\"Creating \" + auxiliary_node1.print_pose() + \" and \" + auxiliary_node2.print_pose())\n",
    "                auxiliary_node1.children.append([auxiliary_node2, 1, 1]) #node cost capacity\n",
    "                node_from.children.append([auxiliary_node1, 0, 1])\n",
    "                node_to.children.append([auxiliary_node1, 0, 1])\n",
    "\n",
    "                # adding edge from current node to auxiliary node A -> A' and B -> B'\n",
    "\n",
    "                if len(node_from.children) < 2:\n",
    "                    # create auxiliary nodes of A and B\n",
    "                    auxiliary_from = Node(edge.nodeFrom.pose, node_type=\"auxiliary\")\n",
    "                    node_from.children.append([auxiliary_from, 1, 1])\n",
    "                    # adding next time step nodes A' -> A(t+1)\n",
    "                    auxiliary_from.children.append([next_timestep_edge.nodeFrom, 0, 1])\n",
    "                else:\n",
    "                    auxiliary_from = node_from.children[1][0]\n",
    "\n",
    "                if len(node_to.children) < 2:\n",
    "                    auxiliary_to = Node(edge.nodeTo.pose, node_type=\"auxiliary\")\n",
    "                    node_to.children.append([auxiliary_to, 1, 1])\n",
    "                     # adding next time step nodes B' -> B(t+1)\n",
    "                    auxiliary_to.children.append([next_timestep_edge.nodeTo, 0, 1])\n",
    "                else:\n",
    "                    auxiliary_to = node_to.children[1][0]\n",
    "\n",
    "                # add auxilary edges w' -> A' and w' -> B'\n",
    "                auxiliary_node2.children.append([auxiliary_from, 0, 1])\n",
    "                auxiliary_node2.children.append([auxiliary_to, 0, 1])\n",
    "\n",
    "\n",
    "                j+=1\n",
    "                next_edges.append(next_timestep_edge)\n",
    "            j = 0\n",
    "            current_edges = copy.copy(next_edges)\n",
    "            next_edges = []\n",
    "            \n",
    "    def print_flow_graph(self):\n",
    "        explored = []\n",
    "        for node in self.nodes:\n",
    "            print(\"For node: \", node.print_pose())\n",
    "            q = []\n",
    "            explored.append(node)\n",
    "            q.append(node)\n",
    "            while len(q) > 0:\n",
    "                v = q.pop(0)\n",
    "                for child in v.children:\n",
    "                    if child[0] not in explored:\n",
    "                        explored.append(child[0])\n",
    "                        q.append(child[0])\n",
    "                    print(v.print_pose(),\" -> \", child[0].print_pose())\n",
    "\n",
    "                    \n",
    "    \n",
    "            \n",
    "            "
   ]
  },
  {
   "cell_type": "code",
   "execution_count": 107,
   "id": "742fc301",
   "metadata": {
    "pycharm": {
     "name": "#%%\n"
    }
   },
   "outputs": [],
   "source": [
    "# node1 = Node([1, 0, 0], node_type=\"start\")\n",
    "# node2 = Node([0, 1, 0], node_type=\"start\")\n",
    "# node3 = Node([0, 0, 0])\n",
    "# node4 = Node([0, 0, 1])\n",
    "# node5 = Node([1, 0, 1], node_type=\"goal\")\n",
    "# node6 = Node([0, 1, 1], node_type=\"goal\")\n",
    "\n",
    "# nodes = [node1, node2, node3, node4, node5, node6]\n",
    "# edges = [Edge(node1, node3),\n",
    "#          Edge(node2, node3),\n",
    "#          Edge(node3, node4),\n",
    "#          Edge(node4, node5),\n",
    "#          Edge(node4, node6)]\n",
    "\n",
    "node1 = Node([0, 0, 0], node_type=\"start\")\n",
    "node2 = Node([1, 0, 0])\n",
    "node3 = Node([2, 0, 0], node_type=\"goal\")\n",
    "nodes = [node1, node2, node3]\n",
    "edges = [Edge(node1, node2), \n",
    "         Edge(node2, node3)]\n",
    "world = Graph(nodes, edges)"
   ]
  },
  {
   "cell_type": "code",
   "execution_count": null,
   "id": "8a693262",
   "metadata": {
    "pycharm": {
     "name": "#%%\n"
    }
   },
   "outputs": [],
   "source": []
  },
  {
   "cell_type": "code",
   "execution_count": 108,
   "id": "30221c34",
   "metadata": {
    "pycharm": {
     "name": "#%%\n"
    }
   },
   "outputs": [
    {
     "data": {
      "image/png": "[encoded data removed]",
      "text/plain": [
       "<matplotlib.figure.Figure at 0x7f36861f16a0>"
      ]
     },
     "metadata": {
      "needs_background": "light"
     },
     "output_type": "display_data"
    }
   ],
   "source": [
    "world.draw_graph()"
   ]
  },
  {
   "cell_type": "code",
   "execution_count": 109,
   "id": "882a8fc9",
   "metadata": {
    "pycharm": {
     "name": "#%%\n"
    }
   },
   "outputs": [
    {
     "name": "stdout",
     "output_type": "stream",
     "text": [
      "Creating w0 time 0 is auxiliary and w'0 time 0 is auxiliary\n",
      "Creating w1 time 0 is auxiliary and w'1 time 0 is auxiliary\n",
      "Creating w0 time 1 is auxiliary and w'0 time 1 is auxiliary\n",
      "Creating w1 time 1 is auxiliary and w'1 time 1 is auxiliary\n"
     ]
    }
   ],
   "source": [
    "texpgr = TimeExpandedFlowGraph(world)"
   ]
  },
  {
   "cell_type": "code",
   "execution_count": 110,
   "id": "60811fa4",
   "metadata": {
    "pycharm": {
     "name": "#%%\n"
    }
   },
   "outputs": [
    {
     "name": "stdout",
     "output_type": "stream",
     "text": [
      "For node:  [0, 0, 0] is start\n",
      "[0, 0, 0] is start  ->  w0 time 0 is auxiliary\n",
      "[0, 0, 0] is start  ->  [0, 0, 0] is auxiliary\n",
      "w0 time 0 is auxiliary  ->  w'0 time 0 is auxiliary\n",
      "[0, 0, 0] is auxiliary  ->  [0, 0, 0] is start\n",
      "w'0 time 0 is auxiliary  ->  [0, 0, 0] is auxiliary\n",
      "w'0 time 0 is auxiliary  ->  [1, 0, 0] is auxiliary\n",
      "[0, 0, 0] is start  ->  w0 time 1 is auxiliary\n",
      "[0, 0, 0] is start  ->  [0, 0, 0] is auxiliary\n",
      "[1, 0, 0] is auxiliary  ->  [1, 0, 0] is default\n",
      "w0 time 1 is auxiliary  ->  w'0 time 1 is auxiliary\n",
      "[0, 0, 0] is auxiliary  ->  [0, 0, 0] is start\n",
      "[1, 0, 0] is default  ->  w0 time 1 is auxiliary\n",
      "[1, 0, 0] is default  ->  [1, 0, 0] is auxiliary\n",
      "w'0 time 1 is auxiliary  ->  [0, 0, 0] is auxiliary\n",
      "w'0 time 1 is auxiliary  ->  [1, 0, 0] is auxiliary\n",
      "[1, 0, 0] is auxiliary  ->  [1, 0, 0] is default\n",
      "For node:  [1, 0, 0] is default\n",
      "[1, 0, 0] is default  ->  w0 time 0 is auxiliary\n",
      "[1, 0, 0] is default  ->  [1, 0, 0] is auxiliary\n",
      "[1, 0, 0] is default  ->  w1 time 0 is auxiliary\n",
      "w1 time 0 is auxiliary  ->  w'1 time 0 is auxiliary\n",
      "w'1 time 0 is auxiliary  ->  [1, 0, 0] is auxiliary\n",
      "w'1 time 0 is auxiliary  ->  [2, 0, 0] is auxiliary\n",
      "[2, 0, 0] is auxiliary  ->  [2, 0, 0] is goal\n",
      "[2, 0, 0] is goal  ->  w1 time 1 is auxiliary\n",
      "[2, 0, 0] is goal  ->  [2, 0, 0] is auxiliary\n",
      "w1 time 1 is auxiliary  ->  w'1 time 1 is auxiliary\n",
      "[2, 0, 0] is auxiliary  ->  [2, 0, 0] is goal\n",
      "w'1 time 1 is auxiliary  ->  [1, 0, 0] is auxiliary\n",
      "w'1 time 1 is auxiliary  ->  [2, 0, 0] is auxiliary\n",
      "[1, 0, 0] is auxiliary  ->  [1, 0, 0] is default\n",
      "For node:  [2, 0, 0] is goal\n",
      "[2, 0, 0] is goal  ->  w1 time 0 is auxiliary\n",
      "[2, 0, 0] is goal  ->  [2, 0, 0] is auxiliary\n"
     ]
    }
   ],
   "source": [
    "texpgr.print_flow_graph()"
   ]
  },
  {
   "cell_type": "code",
   "execution_count": null,
   "id": "8f2804fe",
   "metadata": {
    "pycharm": {
     "name": "#%%\n"
    }
   },
   "outputs": [],
   "source": [
    "import math"
   ]
  },
  {
   "cell_type": "code",
   "execution_count": null,
   "id": "bc001c10",
   "metadata": {
    "pycharm": {
     "name": "#%%\n"
    }
   },
   "outputs": [],
   "source": [
    "if 1 < math.inf:\n",
    "    print(\"lol\")"
   ]
  },
  {
   "cell_type": "code",
   "execution_count": 3,
   "id": "5a415f43",
   "metadata": {
    "pycharm": {
     "name": "#%%\n"
    }
   },
   "outputs": [
    {
     "name": "stdout",
     "output_type": "stream",
     "text": [
      "lol\n"
     ]
    }
   ],
   "source": [
    "if 1 < math.inf:\n",
    "    print(\"lol\")"
   ]
  },
  {
   "cell_type": "code",
   "execution_count": 4,
   "id": "a2ee05bb",
   "metadata": {},
   "outputs": [
    {
     "name": "stdout",
     "output_type": "stream",
     "text": [
      "1.7320508075688772\n"
     ]
    }
   ],
   "source": [
    "import numpy as np\n",
    "a = np.array([0, 1, 1])\n",
    "b = np.array([1, 0, 0])\n",
    "c = np.array([0, 0, 0])\n",
    "print(np.linalg.norm(abs(a - b)))"
   ]
  },
  {
   "cell_type": "code",
   "execution_count": 16,
   "id": "352c73a9",
   "metadata": {},
   "outputs": [
    {
     "name": "stdout",
     "output_type": "stream",
     "text": [
      "0.5\n",
      "[-0.57735027  0.57735027  0.57735027]\n",
      "[-1.73205081  1.73205081  1.73205081]\n"
     ]
    }
   ],
   "source": [
    "vel = (a - b) / np.linalg.norm(a - b)\n",
    "print(np.linalg.norm(vel * 0.5))\n",
    "c = c + vel * 0.5\n",
    "print(vel)\n",
    "print(c)"
   ]
  },
  {
   "cell_type": "code",
   "execution_count": null,
   "id": "a06893c4",
   "metadata": {},
   "outputs": [],
   "source": []
  },
  {
   "cell_type": "code",
   "execution_count": null,
   "id": "a59726c2",
   "metadata": {},
   "outputs": [],
   "source": []
  }
 ],
 "metadata": {
  "kernelspec": {
   "display_name": "Python 3 (ipykernel)",
   "language": "python",
   "name": "python3"
  },
  "language_info": {
   "codemirror_mode": {
    "name": "ipython",
    "version": 3
   },
   "file_extension": ".py",
   "mimetype": "text/x-python",
   "name": "python",
   "nbconvert_exporter": "python",
   "pygments_lexer": "ipython3",
   "version": "3.8.10"
  }
 },
 "nbformat": 4,
 "nbformat_minor": 5
}
