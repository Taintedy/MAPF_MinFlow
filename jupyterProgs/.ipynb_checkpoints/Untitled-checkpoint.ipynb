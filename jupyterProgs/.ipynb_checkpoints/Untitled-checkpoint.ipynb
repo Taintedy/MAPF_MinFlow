{
 "cells": [
  {
   "cell_type": "code",
   "execution_count": 77,
   "id": "83f24157",
   "metadata": {
    "pycharm": {
     "name": "#%%\n"
    }
   },
   "outputs": [],
   "source": [
    "import numpy\n",
    "import matplotlib.pyplot as plt\n",
    "from mpl_toolkits.mplot3d import Axes3D\n",
    "import copy"
   ]
  },
  {
   "cell_type": "code",
   "execution_count": 111,
   "id": "ec9cca04",
   "metadata": {
    "pycharm": {
     "name": "#%%\n"
    }
   },
   "outputs": [],
   "source": [
    "T = 3\n",
    "\n",
    "class Node:\n",
    "    def __init__(self, pose, node_type=\"default\", capacity=1):\n",
    "        self.pose = pose\n",
    "        self.capacity = capacity\n",
    "        \n",
    "        self.children = []\n",
    "        \n",
    "        self.is_start = False\n",
    "        self.is_goal = False\n",
    "        self.is_auxilary = False\n",
    "        \n",
    "        if node_type == \"start\":\n",
    "            self.is_start = True\n",
    "        elif node_type == \"goal\":\n",
    "            self.is_goal = True\n",
    "        elif node_type == \"auxiliary\":\n",
    "            self.is_auxilary = True\n",
    "\n",
    "class Edge:\n",
    "    def __init__(self, nodeFrom, nodeTo, orientated=True, cost=1, capacity=1):\n",
    "        self.nodeFrom = nodeFrom\n",
    "        self.nodeTo = nodeTo\n",
    "        self.capacity = capacity\n",
    "        self.orientated = orientated\n",
    "        self.cost = cost\n",
    "        \n",
    "class Graph:\n",
    "    def __init__(self, nodes, edges):\n",
    "        self.nodes = nodes\n",
    "        self.edges = edges\n",
    "\n",
    "    \n",
    "    def draw_graph(self):\n",
    "        fig = plt.figure(figsize=(4,4))\n",
    "        ax = fig.add_subplot(111, projection='3d')\n",
    "        \n",
    "        for edge in self.edges:\n",
    "            ax.plot([edge.nodeFrom.pose[0],edge.nodeTo.pose[0]], [edge.nodeFrom.pose[1],edge.nodeTo.pose[1]],[edge.nodeFrom.pose[2],edge.nodeTo.pose[2]], c=\"#59c2ff\")\n",
    "            if edge.nodeFrom.is_start:\n",
    "                ax.scatter(edge.nodeFrom.pose[0],  edge.nodeFrom.pose[1], edge.nodeFrom.pose[2], c=\"r\")\n",
    "            elif edge.nodeFrom.is_goal:\n",
    "                ax.scatter(edge.nodeFrom.pose[0],  edge.nodeFrom.pose[1], edge.nodeFrom.pose[2], c=\"b\")\n",
    "            else:\n",
    "                ax.scatter(edge.nodeFrom.pose[0],  edge.nodeFrom.pose[1], edge.nodeFrom.pose[2], c=\"black\")\n",
    "            if edge.nodeTo.is_start:    \n",
    "                ax.scatter(edge.nodeTo.pose[0],  edge.nodeTo.pose[1], edge.nodeTo.pose[2], c=\"r\")\n",
    "            elif edge.nodeTo.is_goal:\n",
    "                ax.scatter(edge.nodeTo.pose[0],  edge.nodeTo.pose[1], edge.nodeTo.pose[2], c=\"b\")\n",
    "            else:\n",
    "                ax.scatter(edge.nodeTo.pose[0],  edge.nodeTo.pose[1], edge.nodeTo.pose[2], c=\"black\")  \n",
    "        \n",
    "        plt.show()\n",
    "        \n",
    "class TimeExpandedFlowGraph:\n",
    "    def __init__(self, graph):\n",
    "        \n",
    "        self.nodes = graph.nodes\n",
    "        self.edges = []\n",
    "        self.next_edges = []\n",
    "        current_edges = graph.edges\n",
    "        i = 0\n",
    "        for edge in current_edges:\n",
    "            node_from = edge.nodeFrom\n",
    "            node_to = edge.nodeTo\n",
    "            \n",
    "            # add auxilary edge w -> w', A -> w and B -> w\n",
    "            auxiliary_node1 = Node(i, node_type=\"auxiliary\")\n",
    "            auxiliary_node2 = Node(i, node_type=\"auxiliary\")\n",
    "            auxiliary_node1.children.append([auxiliary_node2, 1, 1]) #node cost capacity\n",
    "            node_from.children.append([auxiliary_node1, 0, 1])\n",
    "            node_to.children.append([auxiliary_node1, 0, 1])\n",
    "            \n",
    "            # adding edge from current node to auxiliary node A -> A' and B -> B'\n",
    "            \n",
    "            if len(node_from.children) < 2:\n",
    "                # create auxiliary nodes of A and B\n",
    "                auxiliary_from = Node(edge.nodeFrom.pose, node_type=\"auxiliary\")\n",
    "                node_from.children.append([auxiliary_from, 1, 1])\n",
    "            else:\n",
    "                auxiliary_from = node_from.children[1][0]\n",
    "\n",
    "            if len(node_to.children) < 2:\n",
    "                auxiliary_to = Node(edge.nodeTo.pose, node_type=\"auxiliary\")\n",
    "                node_to.children.append([auxiliary_to, 1, 1])\n",
    "            else:\n",
    "                auxiliary_to = node_to.children[1][0]\n",
    "                \n",
    "            # add auxilary edges w' -> A' and w' -> B'\n",
    "            auxiliary_node2.children.append([auxiliary_from, 0, 1])\n",
    "            auxiliary_node2.children.append([auxiliary_to, 0, 1])\n",
    "            \n",
    "            # adding next time step nodes A' -> A(t+1) and B' -> B(t+1)\n",
    "            copy_edge = Edge(node_from, node_to)\n",
    "            if len(node_from.children) < 2:\n",
    "                auxiliary_from.children.append([copy_edge.nodeFrom, 0, 1])\n",
    "            \n",
    "            if len(node_to.children) < 2:\n",
    "                auxiliary_to.children.append([copy_edge.nodeTo, 0, 1])\n",
    "            i+=1\n",
    "            self.next_edges.append(copy_edge)\n",
    "        print(i)\n",
    "            \n",
    "    def print_flow_graph(self):\n",
    "        for node in self.nodes:\n",
    "            print(\"for node: \", node.pose)\n",
    "    \n",
    "            \n",
    "            "
   ]
  },
  {
   "cell_type": "code",
   "execution_count": 112,
   "id": "cc95f1fe",
   "metadata": {
    "pycharm": {
     "name": "#%%\n"
    }
   },
   "outputs": [],
   "source": [
    "node1 = Node([1, 0, 0], node_type=\"start\")\n",
    "node2 = Node([0, 1, 0], node_type=\"start\")\n",
    "node3 = Node([0, 0, 0])\n",
    "node4 = Node([0, 0, 1])\n",
    "node5 = Node([1, 0, 1], node_type=\"goal\")\n",
    "node6 = Node([0, 1, 1], node_type=\"goal\")\n",
    "\n",
    "nodes = [node1, node2, node3, node4, node5, node6]\n",
    "edges = [Edge(node1, node3),\n",
    "         Edge(node2, node3),\n",
    "         Edge(node3, node4),\n",
    "         Edge(node4, node5),\n",
    "         Edge(node4, node6)]\n",
    "world = Graph(nodes, edges)"
   ]
  },
  {
   "cell_type": "code",
   "execution_count": 113,
   "id": "acbb9bd8",
   "metadata": {
    "pycharm": {
     "name": "#%%\n"
    }
   },
   "outputs": [
    {
     "data": {
      "image/png": "[encoded data removed]",
      "text/plain": [
       "<matplotlib.figure.Figure at 0x7f39575e2a30>"
      ]
     },
     "metadata": {
      "needs_background": "light"
     },
     "output_type": "display_data"
    }
   ],
   "source": [
    "world.draw_graph()"
   ]
  },
  {
   "cell_type": "code",
   "execution_count": 114,
   "id": "92cfff61",
   "metadata": {
    "pycharm": {
     "name": "#%%\n"
    }
   },
   "outputs": [
    {
     "name": "stdout",
     "output_type": "stream",
     "text": [
      "5\n"
     ]
    }
   ],
   "source": [
    "texpgr = TimeExpandedFlowGraph(world)"
   ]
  },
  {
   "cell_type": "code",
   "execution_count": null,
   "id": "e4d5cc77",
   "metadata": {
    "pycharm": {
     "name": "#%%\n"
    }
   },
   "outputs": [],
   "source": []
  },
  {
   "cell_type": "code",
   "execution_count": null,
   "id": "6b985ad9",
   "metadata": {
    "pycharm": {
     "name": "#%%\n"
    }
   },
   "outputs": [],
   "source": []
  }
 ],
 "metadata": {
  "kernelspec": {
   "display_name": "Python 3 (ipykernel)",
   "language": "python",
   "name": "python3"
  },
  "language_info": {
   "codemirror_mode": {
    "name": "ipython",
    "version": 3
   },
   "file_extension": ".py",
   "mimetype": "text/x-python",
   "name": "python",
   "nbconvert_exporter": "python",
   "pygments_lexer": "ipython3",
   "version": "3.8.10"
  }
 },
 "nbformat": 4,
 "nbformat_minor": 5
}
